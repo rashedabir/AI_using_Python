{
 "cells": [
  {
   "cell_type": "code",
   "execution_count": 1,
   "id": "b6a1dcfd",
   "metadata": {},
   "outputs": [],
   "source": [
    "from chatterbot import ChatBot\n",
    "from chatterbot.trainers import ListTrainer\n",
    "import sys"
   ]
  },
  {
   "cell_type": "code",
   "execution_count": 7,
   "id": "fb465e1e",
   "metadata": {
    "scrolled": false
   },
   "outputs": [],
   "source": [
    "bot = ChatBot('Buddy')"
   ]
  },
  {
   "cell_type": "code",
   "execution_count": 8,
   "id": "28069230",
   "metadata": {},
   "outputs": [],
   "source": [
    "bot = ChatBot(\n",
    "    'Buddy',\n",
    "    storage_adapter='chatterbot.storage.SQLStorageAdapter',\n",
    "    database_uri='sqlite:///database.sqlite3'\n",
    ")"
   ]
  },
  {
   "cell_type": "code",
   "execution_count": 9,
   "id": "e9be466d",
   "metadata": {},
   "outputs": [],
   "source": [
    "bot = ChatBot(\n",
    "    'Buddy',  \n",
    "    logic_adapters=[\n",
    "        'chatterbot.logic.BestMatch',\n",
    "        'chatterbot.logic.TimeLogicAdapter'],\n",
    ")"
   ]
  },
  {
   "cell_type": "code",
   "execution_count": 10,
   "id": "94349774",
   "metadata": {},
   "outputs": [],
   "source": [
    "trainer = ListTrainer(bot)"
   ]
  },
  {
   "cell_type": "code",
   "execution_count": 11,
   "id": "b0a65927",
   "metadata": {},
   "outputs": [
    {
     "name": "stdout",
     "output_type": "stream",
     "text": [
      "List Trainer: [####################] 100%\n"
     ]
    }
   ],
   "source": [
    "trainer.train([\n",
    "\"Good morning. I would like to open a bank account.\",\n",
    "\"Good morning, welcome to the Grammar Bank. Sure thing. What kind of account would you like to open? A savings account or a checking account?\",\n",
    "\"What's the difference?\",\n",
    "\"A checking account is designed to use for everyday transactions. Yet; the money in a savings account is meant to stay in the account and earn interest over time.\",\n",
    "\"I see, actually I want to apply for a credit card. That's why I need an account.\",\n",
    "\"Okay then, you probably want a checking account.\",\n",
    "\"Well, thank you. I'd like that.\",\n",
    "\"Sure, we will have you fill out an application form, please.\",\n",
    "\"No problem.\",\n",
    "\"How much of a credit limit were you looking for?\",\n",
    "\"I would like a $10,000 spending limit.\",\n",
    "\"Alright, we will see what we can do. We might be able to get you one of our gold cards with a $10,000 spending limit.\",\n",
    "\"Wonderful. Will I also collect points when I use the card?\",\n",
    "\"Sure, with our gold card you will get 10 reward points for every dollar spent.\",\n",
    "\"Perfect, I have filled out the form. Do you need anything else?\",\n",
    "\"You just need to deposit a minimum of $250 into your new checking account.\",\n",
    "\"Very well, here you are.\",\n",
    "\"Thank you, your account is set up now and your credit card will be mailed to your address within 5 to 10 business days.\",\n",
    "\"Thank you for your help, have a good day.\",\n",
    "\"Thank you, you too.\",\n",
    "\"hi\",\n",
    "\"Hi and Welcome to the English Bank. What can I do for you today?\",\n",
    "\"I would like to apply for a credit card, please.\",\n",
    "\"Sure thing. Do you have any accounts with us at the moment?\",\n",
    "\"No I don’t.\",\n",
    "\"No problem. I can help you to apply for a credit card today if you like.\",\n",
    "\"Ok, thank you. I’d like that.\",\n",
    "\"Ok. I will need you to please fill out an application form. Do you know which of our credit cards you would like to apply for?\",\n",
    "\"Not yet. Could you please give me more information about the cards available?\",\n",
    "\"Yes, of course. Here is a brochure about our most popular cards.\",\n",
    "\"Thank you.\",\n",
    "\"I’m happy to help you pick the right card for you. Could I ask you a few questions to better understand what you’re looking for?\",\n",
    "\"Yes please, that would be helpful.\",\n",
    "\"Ok, great. Firstly, what credit limit would you like to apply for?\",\n",
    "\"I would like a $5,000 spending limit.\",\n",
    "\"Ok. We have three cards available with a $5,000 spending limit. Are you looking for reward program with your card?\",\n",
    "\"Yes, I would like to collect points whenever I use the card.\",\n",
    "\"Wonderful. Well, we have two cards which best suit your needs. One is our Platinum flyer card, the other is our Gold shopper card.\",\n",
    "\"What’s the difference between the two?\",\n",
    "\"The Platinum flyer card has a higher interest rate of 19% per annum. But there is no annual fee and you receive two frequent flyer miles with Emirates airline for every dollar you spend. Plus, there is a promotional offer for 0% interest for the first 12 months on balance transfers.\",\n",
    "\"I don’t like to fly that much. Can you tell me about the Gold shopper card?\",\n",
    "\"The Gold Shopper card has a lower interest rate of 14% per annum and has an interest freeperiod of 35 days on any purchases made. This card gives you 1 reward point in our rewards program for every dollar you spend. But, there is a $50 annual fee.\",\n",
    "\"I don’t mind paying the annual fee. What can I do with the reward points?\",\n",
    "\"You can redeem the points at any petrol station in the country. You get a free liter of petrol for every 100 points.\",\n",
    "\"I’d like to apply for the Gold Shopper card, please.\",\n",
    "\"Ok. Here’s the application form. Please fill in your personal details, occupation, job position, gross annual income and how many years you have been in your current position. Do you have identification with you?\",\n",
    "\"Yes, I have my driver’s license with me.\",\n",
    "\"The bank will do a credit check and access your credit report to see if you are eligible for the card. Could you please tick the box stating that you know and accept this? Thank you.\",\n",
    "\"Ok. I’m finished. Here’s the form and here’s my driver’s license.\",\n",
    "\"Thank you. I will make photocopies of your ID and be right back.\",\n",
    "\"Ok.\",\n",
    "\"All done. You should hear from someone within the next 48 hours to let you know whether you have been approved.\",\n",
    "\"Great. Thank you.\",\n",
    "\"Thank you. Is there anything else I can do for you today?\",\n",
    "\"No thank you. That’s all.\",\n",
    "\"Ok. Thank you, have a good day.\",\n",
    "\"You too.\",\n",
    "])"
   ]
  },
  {
   "cell_type": "code",
   "execution_count": 12,
   "id": "da1c9cb2",
   "metadata": {},
   "outputs": [],
   "source": [
    "def response(input_variable):\n",
    "    res = bot.get_response(input_variable)\n",
    "    print(\"Bot Response:\", res)"
   ]
  },
  {
   "cell_type": "code",
   "execution_count": null,
   "id": "e1b7718c",
   "metadata": {},
   "outputs": [
    {
     "name": "stdout",
     "output_type": "stream",
     "text": [
      "Me: hi\n",
      "Bot Response: Hello\n",
      "Me: I would like to apply for a credit card, please.\n",
      "Bot Response: Sure thing. Do you have any accounts with us at the moment?\n",
      "Me: No I don’t.\n",
      "Bot Response: No problem. I can help you to apply for a credit card today if you like.\n",
      "Me: Ok, thank you. I’d like that.\n",
      "Bot Response: Ok. I will need you to please fill out an application form. Do you know which of our credit cards you would like to apply for?\n",
      "Me: Not yet. Could you please give me more information about the cards available?\n",
      "Bot Response: Yes, of course. Here is a brochure about our most popular cards.\n",
      "Me: Thank you.\n",
      "Bot Response: I’m happy to help you pick the right card for you. Could I ask you a few questions to better understand what you’re looking for?\n",
      "Me: Yes please, that would be helpful.\n",
      "Bot Response: Ok, great. Firstly, what credit limit would you like to apply for?\n",
      "Me: I would like a $5,000 spending limit.\n",
      "Bot Response: Ok. We have three cards available with a $5,000 spending limit. Are you looking for reward program with your card?\n",
      "Me: Yes, I would like to collect points whenever I use the card.\n",
      "Bot Response: Wonderful. Well, we have two cards which best suit your needs. One is our Platinum flyer card, the other is our Gold shopper card.\n",
      "Me: What’s the difference between the two?\n",
      "Bot Response: The Platinum flyer card has a higher interest rate of 19% per annum. But there is no annual fee and you receive two frequent flyer miles with Emirates airline for every dollar you spend. Plus, there is a promotional offer for 0% interest for the first 12 months on balance transfers.\n",
      "Me: I don’t like to fly that much. Can you tell me about the Gold shopper card?\n",
      "Bot Response: The Gold Shopper card has a lower interest rate of 14% per annum and has an interest freeperiod of 35 days on any purchases made. This card gives you 1 reward point in our rewards program for every dollar you spend. But, there is a $50 annual fee.\n",
      "Me: I don’t mind paying the annual fee. What can I do with the reward points?\n",
      "Bot Response: You can redeem the points at any petrol station in the country. You get a free liter of petrol for every 100 points.\n",
      "Me: I’d like to apply for the Gold Shopper card, please.\n",
      "Bot Response: Ok. Here’s the application form. Please fill in your personal details, occupation, job position, gross annual income and how many years you have been in your current position. Do you have identification with you?\n",
      "Me: Yes, I have my driver’s license with me.\n",
      "Bot Response: The bank will do a credit check and access your credit report to see if you are eligible for the card. Could you please tick the box stating that you know and accept this? Thank you.\n",
      "Me: Ok. I’m finished. Here’s the form and here’s my driver’s license.\n",
      "Bot Response: Thank you. I will make photocopies of your ID and be right back.\n",
      "Me: ok.\n",
      "Bot Response: All done. You should hear from someone within the next 48 hours to let you know whether you have been approved.\n",
      "Me: Great. Thank you.\n",
      "Bot Response: Thank you. Is there anything else I can do for you today?\n",
      "Me: No thank you. That’s all.\n",
      "Bot Response: Ok. Thank you, have a good day.\n"
     ]
    }
   ],
   "source": [
    "while True:\n",
    "    input_variable = input(\"Me: \")\n",
    "    if(input_variable == \"bye\"):\n",
    "       print(\"Bot Response: Thank you, have a good day.\")\n",
    "       sys.exit(0)\n",
    "    else:\n",
    "        response(input_variable)"
   ]
  },
  {
   "cell_type": "code",
   "execution_count": null,
   "id": "c9dbeb7f",
   "metadata": {},
   "outputs": [],
   "source": []
  },
  {
   "cell_type": "code",
   "execution_count": null,
   "id": "ca1b7be8",
   "metadata": {},
   "outputs": [],
   "source": []
  }
 ],
 "metadata": {
  "kernelspec": {
   "display_name": "Python 3",
   "language": "python",
   "name": "python3"
  },
  "language_info": {
   "codemirror_mode": {
    "name": "ipython",
    "version": 3
   },
   "file_extension": ".py",
   "mimetype": "text/x-python",
   "name": "python",
   "nbconvert_exporter": "python",
   "pygments_lexer": "ipython3",
   "version": "3.7.11"
  }
 },
 "nbformat": 4,
 "nbformat_minor": 5
}
