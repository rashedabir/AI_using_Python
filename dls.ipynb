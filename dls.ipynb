{
 "cells": [
  {
   "cell_type": "code",
   "execution_count": 1,
   "metadata": {},
   "outputs": [],
   "source": [
    "graph = {\n",
    "    'A':['B','C'],\n",
    "    'B':['D','E'],\n",
    "    'C':['F','G'],\n",
    "    'D':['H','I'],\n",
    "    'E':['J','K'],\n",
    "    'F':['L','M'],\n",
    "    'G':['N','O'],\n",
    "    'H':[],\n",
    "    'I':[],\n",
    "    'J':[],\n",
    "    'K':[],\n",
    "    'L':[],\n",
    "    'M':[],\n",
    "    'N':[],\n",
    "    'O':[]\n",
    "}"
   ]
  },
  {
   "cell_type": "code",
   "execution_count": 2,
   "metadata": {},
   "outputs": [],
   "source": [
    "def DLS(start,goal,path,level,maxD):\n",
    "  print('\\nCurrent level-->',level)\n",
    "  print('Goal node testing for',start)\n",
    "  path.append(start)\n",
    "  if start == goal:\n",
    "    print(\"Goal test successful\")\n",
    "    return path\n",
    "  print('Goal node testing failed')\n",
    "  if level==maxD:\n",
    "    return False\n",
    "  print('\\nExpanding the current node',start)\n",
    "  for child in graph[start]:\n",
    "    if DLS(child,goal,path,level+1,maxD):\n",
    "      return path\n",
    "    path.pop()\n",
    "  return False"
   ]
  },
  {
   "cell_type": "code",
   "execution_count": 3,
   "metadata": {},
   "outputs": [
    {
     "name": "stdout",
     "output_type": "stream",
     "text": [
      "Enter the goal node:-D\n",
      "Enter the maximum depth limit:-2\n",
      "\n",
      "\n",
      "Current level--> 0\n",
      "Goal node testing for A\n",
      "Goal node testing failed\n",
      "\n",
      "Expanding the current node A\n",
      "\n",
      "Current level--> 1\n",
      "Goal node testing for B\n",
      "Goal node testing failed\n",
      "\n",
      "Expanding the current node B\n",
      "\n",
      "Current level--> 2\n",
      "Goal node testing for D\n",
      "Goal test successful\n",
      "Path to goal node available\n",
      "Path ['A', 'B', 'D']\n"
     ]
    }
   ],
   "source": [
    "start = 'A'\n",
    "goal = input('Enter the goal node:-')\n",
    "maxD = int(input(\"Enter the maximum depth limit:-\"))\n",
    "print()\n",
    "path = list()\n",
    "res = DLS(start,goal,path,0,maxD)\n",
    "if(res):\n",
    "    print(\"Path to goal node available\")\n",
    "    print(\"Path\",path)\n",
    "else:\n",
    "    print(\"No path available for the goal node in given depth limit\")"
   ]
  },
  {
   "cell_type": "code",
   "execution_count": null,
   "metadata": {},
   "outputs": [],
   "source": []
  }
 ],
 "metadata": {
  "kernelspec": {
   "display_name": "Python 3",
   "language": "python",
   "name": "python3"
  },
  "language_info": {
   "codemirror_mode": {
    "name": "ipython",
    "version": 3
   },
   "file_extension": ".py",
   "mimetype": "text/x-python",
   "name": "python",
   "nbconvert_exporter": "python",
   "pygments_lexer": "ipython3",
   "version": "3.8.5"
  }
 },
 "nbformat": 4,
 "nbformat_minor": 4
}
