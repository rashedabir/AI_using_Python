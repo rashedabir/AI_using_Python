{
 "cells": [
  {
   "cell_type": "code",
   "execution_count": 1,
   "id": "65a051c7",
   "metadata": {},
   "outputs": [],
   "source": [
    "adj_list = {\n",
    "    \"A\" : [\"C\", \"B\", \"D\"],\n",
    "    \"B\" : [\"A\", \"D\"],\n",
    "    \"C\" : [\"A\"],\n",
    "    \"D\" : [\"A\",\"B\" \"E\"],\n",
    "    \"E\" : [\"D\"]\n",
    "}"
   ]
  },
  {
   "cell_type": "code",
   "execution_count": 2,
   "id": "e82e57cf",
   "metadata": {},
   "outputs": [],
   "source": [
    "color = {}\n",
    "parent = {}"
   ]
  },
  {
   "cell_type": "code",
   "execution_count": 3,
   "id": "3baa4e1d",
   "metadata": {},
   "outputs": [],
   "source": [
    "for u in adj_list.keys():\n",
    "    color[u] = 'W'\n",
    "    parent[u] = None\n",
    "\n",
    "def dfs(u, color, parent):\n",
    "    color[u] = 'G'\n",
    "    for v in adj_list[u]:\n",
    "        if color[v] == 'W':\n",
    "            parent[v] = u\n",
    "            cycle = dfs(v, color, parent)\n",
    "            if cycle == True:\n",
    "                return True\n",
    "        elif color[v] == \"G\" and parent[u]!=v:\n",
    "            print (\"Cycle found\", u, v)\n",
    "            return True\n",
    "    color[u] = \"B\"\n",
    "    return False"
   ]
  },
  {
   "cell_type": "code",
   "execution_count": 4,
   "id": "3e8d807d",
   "metadata": {},
   "outputs": [
    {
     "name": "stdout",
     "output_type": "stream",
     "text": [
      "Cycle found D A\n",
      "Is_cyclic True\n"
     ]
    }
   ],
   "source": [
    "is_cyclic = False\n",
    "for u in adj_list.keys():\n",
    "    if color[u] == 'W':\n",
    "        is_cyclic = dfs(u, color, parent)\n",
    "        if is_cyclic == True:\n",
    "            break\n",
    "print (\"Is_cyclic\", is_cyclic)"
   ]
  },
  {
   "cell_type": "code",
   "execution_count": null,
   "id": "52060166",
   "metadata": {},
   "outputs": [],
   "source": []
  }
 ],
 "metadata": {
  "kernelspec": {
   "display_name": "Python 3",
   "language": "python",
   "name": "python3"
  },
  "language_info": {
   "codemirror_mode": {
    "name": "ipython",
    "version": 3
   },
   "file_extension": ".py",
   "mimetype": "text/x-python",
   "name": "python",
   "nbconvert_exporter": "python",
   "pygments_lexer": "ipython3",
   "version": "3.8.8"
  }
 },
 "nbformat": 4,
 "nbformat_minor": 5
}
