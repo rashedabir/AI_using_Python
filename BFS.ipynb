{
 "cells": [
  {
   "cell_type": "code",
   "execution_count": 1,
   "id": "44067fbe",
   "metadata": {},
   "outputs": [],
   "source": [
    "from queue import Queue"
   ]
  },
  {
   "cell_type": "code",
   "execution_count": 2,
   "id": "c3d4aa93",
   "metadata": {},
   "outputs": [],
   "source": [
    "graph = {\n",
    "    'A': ['B', 'C', 'D'],\n",
    "    'B': ['D', 'A'],\n",
    "    'C': ['A'],\n",
    "    'D': ['A', 'B', 'E'],\n",
    "    'E': ['D']\n",
    "}"
   ]
  },
  {
   "cell_type": "code",
   "execution_count": 3,
   "id": "0c3471e5",
   "metadata": {},
   "outputs": [],
   "source": [
    "visited = {}\n",
    "level = {}\n",
    "parent = {}\n",
    "bfs_traversal_output = []\n",
    "queue = Queue()"
   ]
  },
  {
   "cell_type": "code",
   "execution_count": 4,
   "id": "b039b825",
   "metadata": {},
   "outputs": [
    {
     "name": "stdout",
     "output_type": "stream",
     "text": [
      "BFS :  ['A', 'B', 'C', 'D', 'E']\n"
     ]
    }
   ],
   "source": [
    "for node in graph.keys():\n",
    "    visited[node] = False\n",
    "    parent[node] = None\n",
    "    level[node] = -1  # inf\n",
    "\n",
    "s = \"A\"\n",
    "visited[s] = True\n",
    "level[s] = 0\n",
    "queue.put(s)\n",
    "\n",
    "while not queue.empty():\n",
    "    u = queue.get()\n",
    "    bfs_traversal_output.append(u)\n",
    "\n",
    "    for v in graph[u]:\n",
    "        if not visited[v]:\n",
    "            visited[v] = True\n",
    "            parent[v] = u\n",
    "            level[v] = level[u]+1\n",
    "            queue.put(v)\n",
    "print(\"BFS : \", bfs_traversal_output)"
   ]
  },
  {
   "cell_type": "code",
   "execution_count": 5,
   "id": "ec21c6dc",
   "metadata": {},
   "outputs": [
    {
     "name": "stdout",
     "output_type": "stream",
     "text": [
      "['A', 'D']\n"
     ]
    }
   ],
   "source": [
    "# shortest path\n",
    "v = \"D\"\n",
    "path = []\n",
    "while v is not None:\n",
    "    path.append(v)\n",
    "    v = parent[v]\n",
    "path.reverse()\n",
    "print(path)"
   ]
  },
  {
   "cell_type": "code",
   "execution_count": null,
   "id": "6b22708f",
   "metadata": {},
   "outputs": [],
   "source": []
  }
 ],
 "metadata": {
  "kernelspec": {
   "display_name": "Python 3",
   "language": "python",
   "name": "python3"
  },
  "language_info": {
   "codemirror_mode": {
    "name": "ipython",
    "version": 3
   },
   "file_extension": ".py",
   "mimetype": "text/x-python",
   "name": "python",
   "nbconvert_exporter": "python",
   "pygments_lexer": "ipython3",
   "version": "3.8.8"
  }
 },
 "nbformat": 4,
 "nbformat_minor": 5
}
