{
 "cells": [
  {
   "cell_type": "code",
   "execution_count": 6,
   "id": "e0524b8b",
   "metadata": {},
   "outputs": [
    {
     "name": "stdout",
     "output_type": "stream",
     "text": [
      "Enter your mark : 50\n",
      "C+\n"
     ]
    }
   ],
   "source": [
    "mark = input(\"Enter your mark : \")\n",
    "mark = int(mark)\n",
    "if(mark >= 0 and mark <= 39):\n",
    "    print(\"F\")\n",
    "elif(mark >= 40 and mark <= 44):\n",
    "    print(\"D\")\n",
    "elif(mark >= 45 and mark <= 49):\n",
    "    print(\"C\")\n",
    "elif(mark >= 50 and mark <= 54):\n",
    "    print(\"C+\")\n",
    "elif(mark >= 55 and mark <= 59):\n",
    "    print(\"B-\")\n",
    "elif(mark >= 60 and mark <= 64):\n",
    "    print(\"B\")\n",
    "elif(mark >= 65 and mark <= 69):\n",
    "    print(\"B+\")\n",
    "elif(mark >= 70 and mark <= 74):\n",
    "    print(\"A-\")\n",
    "elif(mark >= 75 and mark <= 79):\n",
    "    print(\"A\")\n",
    "else:\n",
    "    print(\"A+\")"
   ]
  },
  {
   "cell_type": "code",
   "execution_count": null,
   "id": "516d2c64",
   "metadata": {},
   "outputs": [],
   "source": []
  }
 ],
 "metadata": {
  "kernelspec": {
   "display_name": "Python 3",
   "language": "python",
   "name": "python3"
  },
  "language_info": {
   "codemirror_mode": {
    "name": "ipython",
    "version": 3
   },
   "file_extension": ".py",
   "mimetype": "text/x-python",
   "name": "python",
   "nbconvert_exporter": "python",
   "pygments_lexer": "ipython3",
   "version": "3.8.8"
  }
 },
 "nbformat": 4,
 "nbformat_minor": 5
}
