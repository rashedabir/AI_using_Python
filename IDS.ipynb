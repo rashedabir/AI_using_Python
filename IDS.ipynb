{
 "cells": [
  {
   "cell_type": "code",
   "execution_count": 5,
   "metadata": {},
   "outputs": [],
   "source": [
    "graph = {\n",
    "    'A': ['B', 'C'],\n",
    "    'B': ['D','E'],\n",
    "    \"C\": ['F','G'],\n",
    "    'D': ['H','I'],\n",
    "    'E': ['J','K'],\n",
    "    'F': ['L','M'],\n",
    "    'G':['N','O']\n",
    "}"
   ]
  },
  {
   "cell_type": "code",
   "execution_count": 6,
   "metadata": {},
   "outputs": [],
   "source": [
    "path = list()"
   ]
  },
  {
   "cell_type": "code",
   "execution_count": 7,
   "metadata": {},
   "outputs": [],
   "source": [
    "def DFS(currentNode,destination,graph,maxDepth,curList):\n",
    "    print(\"Checking for destination\",currentNode)\n",
    "    curList.append(currentNode)\n",
    "    if currentNode==destination:\n",
    "        return True\n",
    "    if maxDepth<=0:\n",
    "        path.append(curList)\n",
    "        return False\n",
    "    for node in graph[currentNode]:\n",
    "        if DFS(node,destination,graph,maxDepth-1,curList):\n",
    "            return True\n",
    "        else:\n",
    "            curList.pop()\n",
    "    return False"
   ]
  },
  {
   "cell_type": "code",
   "execution_count": 8,
   "metadata": {},
   "outputs": [
    {
     "name": "stdout",
     "output_type": "stream",
     "text": [
      "Checking for destination A\n",
      "Checking for destination A\n",
      "Checking for destination B\n",
      "Checking for destination C\n",
      "Checking for destination A\n",
      "Checking for destination B\n",
      "Checking for destination D\n",
      "Checking for destination E\n",
      "Checking for destination C\n",
      "Checking for destination F\n",
      "Checking for destination G\n",
      "Checking for destination A\n",
      "Checking for destination B\n",
      "Checking for destination D\n",
      "Checking for destination H\n",
      "Checking for destination I\n",
      "Checking for destination E\n",
      "Checking for destination J\n",
      "Checking for destination K\n",
      "Checking for destination C\n",
      "Checking for destination F\n",
      "Checking for destination L\n",
      "Checking for destination M\n",
      "Checking for destination G\n",
      "Checking for destination N\n",
      "A path exists\n",
      "['A', 'C', 'G', 'N']\n"
     ]
    }
   ],
   "source": [
    "def iterativeDDFS(currentNode,destination,graph,maxDepth):\n",
    "    for i in range(maxDepth):\n",
    "        curList = list()\n",
    "        if DFS(currentNode,destination,graph,i,curList):\n",
    "            return True\n",
    "    return False\n",
    "\n",
    "if not iterativeDDFS('A','N',graph,4):\n",
    "    print(\"Path is not available\")\n",
    "else:\n",
    "    print(\"A path exists\")\n",
    "    print(path.pop())"
   ]
  },
  {
   "cell_type": "code",
   "execution_count": null,
   "metadata": {},
   "outputs": [],
   "source": []
  }
 ],
 "metadata": {
  "kernelspec": {
   "display_name": "Python 3",
   "language": "python",
   "name": "python3"
  },
  "language_info": {
   "codemirror_mode": {
    "name": "ipython",
    "version": 3
   },
   "file_extension": ".py",
   "mimetype": "text/x-python",
   "name": "python",
   "nbconvert_exporter": "python",
   "pygments_lexer": "ipython3",
   "version": "3.8.5"
  }
 },
 "nbformat": 4,
 "nbformat_minor": 4
}
